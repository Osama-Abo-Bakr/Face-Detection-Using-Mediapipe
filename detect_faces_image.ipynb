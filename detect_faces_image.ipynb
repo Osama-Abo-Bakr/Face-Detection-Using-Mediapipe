{
 "cells": [
  {
   "cell_type": "code",
   "execution_count": 1,
   "id": "f66c7536",
   "metadata": {},
   "outputs": [],
   "source": [
    "import cv2\n",
    "import cv2 as cv\n",
    "import mediapipe as mp\n",
    "import numpy as np"
   ]
  },
  {
   "cell_type": "markdown",
   "id": "8890ef53",
   "metadata": {},
   "source": [
    "# Face Detection For Image"
   ]
  },
  {
   "cell_type": "code",
   "execution_count": null,
   "id": "ca514ea6",
   "metadata": {},
   "outputs": [],
   "source": [
    "mp_face_detection = mp.solutions.face_detection\n",
    "\n",
    "frame = cv2.imread(r\"D:\\Pycharm\\Computer Vision\\imgs-20230715T083046Z-001\\children.jpg\")\n",
    "\n",
    "face_detector = mp_face_detection.FaceDetection(model_selection=1, min_detection_confidence=0.5)\n",
    "\n",
    "rgb_frame = cv.cvtColor(frame, cv.COLOR_BGR2RGB)\n",
    "count = 1\n",
    "results = face_detector.process(rgb_frame)\n",
    "frame_height, frame_width, c = frame.shape\n",
    "if results.detections:\n",
    "    for face in results.detections:\n",
    "        face_react = np.multiply(\n",
    "            [\n",
    "                face.location_data.relative_bounding_box.xmin,\n",
    "                face.location_data.relative_bounding_box.ymin,\n",
    "                face.location_data.relative_bounding_box.width,\n",
    "                face.location_data.relative_bounding_box.height,\n",
    "            ],\n",
    "            [frame_width, frame_height, frame_width, frame_height]).astype(int)\n",
    "\n",
    "\n",
    "        # new_image = frame[face_react[1] - 50:face_react[1] + face_react[3] + 50,\n",
    "        #                   face_react[0] - 50:face_react[0] + face_react[2] + 50]\n",
    "\n",
    "        new_image = frame[face_react[1]:face_react[1] + face_react[3],\n",
    "                          face_react[0]:face_react[0] + face_react[2]]\n",
    "\n",
    "        cv2.imwrite(fr\"D:\\Pycharm\\Computer Vision\\imgs-20230715T083046Z-001\\children-{count}.jpg\", new_image)\n",
    "\n",
    "        # cv.rectangle(frame, face_react, color=(255, 255, 255), thickness=2)\n",
    "        print(count)\n",
    "        count += 1"
   ]
  },
  {
   "cell_type": "code",
   "execution_count": null,
   "id": "d132548a",
   "metadata": {},
   "outputs": [],
   "source": [
    "cv.imshow(\"frame\", frame)\n",
    "key = cv.waitKey(0)\n",
    "cv.destroyAllWindows()"
   ]
  },
  {
   "cell_type": "markdown",
   "id": "b0e479bc",
   "metadata": {},
   "source": [
    "# Face Detection For Video"
   ]
  },
  {
   "cell_type": "code",
   "execution_count": 2,
   "id": "7d2688f6",
   "metadata": {},
   "outputs": [],
   "source": [
    "import cv2\n",
    "import mediapipe as mp"
   ]
  },
  {
   "cell_type": "code",
   "execution_count": 5,
   "id": "c5f54ef0",
   "metadata": {},
   "outputs": [
    {
     "name": "stdout",
     "output_type": "stream",
     "text": [
      "---------------------------------------------------------------\n",
      "---------------------------------------------------------------\n"
     ]
    }
   ],
   "source": [
    "video = cv2.VideoCapture(0)\n",
    "mp_face_detection = mp.solutions.face_detection\n",
    "face_detector = mp_face_detection.FaceDetection(model_selection=1, min_detection_confidence=0.5)\n",
    "\n",
    "\n",
    "while True:\n",
    "    check, image = video.read()\n",
    "\n",
    "    if check is False: break\n",
    "\n",
    "    rgb_frame = cv2.cvtColor(image, cv2.COLOR_BGR2RGB)\n",
    "\n",
    "    results = face_detector.process(rgb_frame)\n",
    "    frame_height, frame_width, c = image.shape\n",
    "    if results.detections:\n",
    "        for face in results.detections:\n",
    "            face_react = np.multiply(\n",
    "                [\n",
    "                    face.location_data.relative_bounding_box.xmin,\n",
    "                    face.location_data.relative_bounding_box.ymin,\n",
    "                    face.location_data.relative_bounding_box.width,\n",
    "                    face.location_data.relative_bounding_box.height,\n",
    "                ],\n",
    "                [frame_width, frame_height, frame_width, frame_height]).astype(int)\n",
    "            \n",
    "            cv.rectangle(image, face_react, color=(255, 255, 255), thickness=2)\n",
    "\n",
    "\n",
    "    cv2.imshow(\"image\", image)\n",
    "    if cv2.waitKey(1) == ord(\"o\"): break\n",
    "\n",
    "video.release()\n",
    "cv2.destroyAllWindows()\n",
    "\n",
    "\n",
    "print(\"---------------------------------------------------------------\")\n",
    "print(\"---------------------------------------------------------------\")"
   ]
  },
  {
   "cell_type": "code",
   "execution_count": null,
   "id": "007fe906",
   "metadata": {},
   "outputs": [],
   "source": []
  }
 ],
 "metadata": {
  "kernelspec": {
   "display_name": "Python 3 (ipykernel)",
   "language": "python",
   "name": "python3"
  },
  "language_info": {
   "codemirror_mode": {
    "name": "ipython",
    "version": 3
   },
   "file_extension": ".py",
   "mimetype": "text/x-python",
   "name": "python",
   "nbconvert_exporter": "python",
   "pygments_lexer": "ipython3",
   "version": "3.10.9"
  }
 },
 "nbformat": 4,
 "nbformat_minor": 5
}
